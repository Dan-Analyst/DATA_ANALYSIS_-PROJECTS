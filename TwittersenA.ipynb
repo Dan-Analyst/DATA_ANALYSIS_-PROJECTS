{
  "nbformat": 4,
  "nbformat_minor": 0,
  "metadata": {
    "colab": {
      "provenance": [],
      "authorship_tag": "ABX9TyOwD7OoVCgHwcALvyksN/aA",
      "include_colab_link": true
    },
    "kernelspec": {
      "name": "python3",
      "display_name": "Python 3"
    },
    "language_info": {
      "name": "python"
    }
  },
  "cells": [
    {
      "cell_type": "markdown",
      "metadata": {
        "id": "view-in-github",
        "colab_type": "text"
      },
      "source": [
        "<a href=\"https://colab.research.google.com/github/Dan-Analyst/DATA_ANALYSIS_-PROJECTS/blob/main/TwittersenA.ipynb\" target=\"_parent\"><img src=\"https://colab.research.google.com/assets/colab-badge.svg\" alt=\"Open In Colab\"/></a>"
      ]
    },
    {
      "cell_type": "code",
      "execution_count": null,
      "metadata": {
        "id": "3er2Zeb46lJ4"
      },
      "outputs": [],
      "source": []
    },
    {
      "cell_type": "code",
      "source": [
        "from google.colab import drive\n",
        "drive.mount('/content/drive')"
      ],
      "metadata": {
        "colab": {
          "base_uri": "https://localhost:8080/",
          "height": 0
        },
        "id": "z0w_ABuF6yGT",
        "outputId": "136acd41-ffa6-42ef-98c0-c5052a0e911e"
      },
      "execution_count": 1,
      "outputs": [
        {
          "output_type": "stream",
          "name": "stdout",
          "text": [
            "Mounted at /content/drive\n"
          ]
        }
      ]
    },
    {
      "cell_type": "code",
      "source": [
        "import pandas as pd\n",
        "\n",
        "path = '/content/drive/MyDrive/Twitter sent/Twitter_Data.csv'\n",
        "# Load the dataset,\n",
        "df = pd.read_csv(path)\n",
        "\n",
        "# Display the first few rows of the dataframe\n",
        "print(df.head())\n",
        "\n"
      ],
      "metadata": {
        "colab": {
          "base_uri": "https://localhost:8080/",
          "height": 0
        },
        "id": "ZhDdVyWF9_8x",
        "outputId": "e8b6801b-f995-423e-fadd-c9142e84cc43"
      },
      "execution_count": 20,
      "outputs": [
        {
          "output_type": "stream",
          "name": "stdout",
          "text": [
            "                                          clean_text  category\n",
            "0  when modi promised “minimum government maximum...      -1.0\n",
            "1  talk all the nonsense and continue all the dra...       0.0\n",
            "2  what did just say vote for modi  welcome bjp t...       1.0\n",
            "3  asking his supporters prefix chowkidar their n...       1.0\n",
            "4  answer who among these the most powerful world...       1.0\n"
          ]
        }
      ]
    },
    {
      "cell_type": "code",
      "source": [
        "# Check for missing values and the data type of each column\n",
        "print(df.info())"
      ],
      "metadata": {
        "colab": {
          "base_uri": "https://localhost:8080/",
          "height": 0
        },
        "id": "lf-DB1tN-pgp",
        "outputId": "9e0c2869-5fbf-4967-e78b-0bb4809512f7"
      },
      "execution_count": 21,
      "outputs": [
        {
          "output_type": "stream",
          "name": "stdout",
          "text": [
            "<class 'pandas.core.frame.DataFrame'>\n",
            "RangeIndex: 162980 entries, 0 to 162979\n",
            "Data columns (total 2 columns):\n",
            " #   Column      Non-Null Count   Dtype  \n",
            "---  ------      --------------   -----  \n",
            " 0   clean_text  162976 non-null  object \n",
            " 1   category    162973 non-null  float64\n",
            "dtypes: float64(1), object(1)\n",
            "memory usage: 2.5+ MB\n",
            "None\n"
          ]
        }
      ]
    },
    {
      "cell_type": "code",
      "source": [
        "import pandas as pd\n",
        "import re\n",
        "\n",
        "# Sample DataFrame loading,\n",
        "df = pd.read_csv(path)\n",
        "\n",
        "def preprocess_text(text):\n",
        "    # Check if text is a string before applying lower()\n",
        "    if isinstance(text, str):\n",
        "        # Convert text to lowercase\n",
        "        text = text.lower()\n",
        "        # Remove numbers, special characters, and punctuations\n",
        "        text = re.sub(r'[^a-zA-Z\\s]', '', text, re.I|re.A)\n",
        "        # Remove extra spaces\n",
        "        text = text.strip()\n",
        "    # If text is not a string , return it as is or handle it appropriately\n",
        "    # Here, we are returning it as is\n",
        "    return text\n",
        "\n",
        "\n",
        "# Replace 'Tweets' with 'clean_text' or the correct column name in your DataFrame\n",
        "df['cleaned_text'] = df['clean_text'].apply(preprocess_text)\n",
        "\n",
        "# Display the first few rows of the DataFrame to confirm changes\n",
        "print(df.head())"
      ],
      "metadata": {
        "colab": {
          "base_uri": "https://localhost:8080/",
          "height": 0
        },
        "id": "ebHZbd44CueI",
        "outputId": "d0823ae3-139f-46aa-dfd5-8a84769e53b2"
      },
      "execution_count": 30,
      "outputs": [
        {
          "output_type": "stream",
          "name": "stdout",
          "text": [
            "                                          clean_text  category  \\\n",
            "0  when modi promised “minimum government maximum...      -1.0   \n",
            "1  talk all the nonsense and continue all the dra...       0.0   \n",
            "2  what did just say vote for modi  welcome bjp t...       1.0   \n",
            "3  asking his supporters prefix chowkidar their n...       1.0   \n",
            "4  answer who among these the most powerful world...       1.0   \n",
            "\n",
            "                                        cleaned_text  \n",
            "0  when modi promised minimum government maximum ...  \n",
            "1  talk all the nonsense and continue all the dra...  \n",
            "2  what did just say vote for modi  welcome bjp t...  \n",
            "3  asking his supporters prefix chowkidar their n...  \n",
            "4  answer who among these the most powerful world...  \n"
          ]
        }
      ]
    },
    {
      "cell_type": "code",
      "source": [
        "# Remove rows where 'clean_text' is NaN\n",
        "data = df.dropna(subset=['clean_text'])\n",
        "\n",
        "# Proceed with TF-IDF Vectorization\n",
        "from sklearn.feature_extraction.text import TfidfVectorizer\n",
        "\n",
        "# Initialize a TfidfVectorizer\n",
        "tfidf_vectorizer = TfidfVectorizer(max_features=1000, stop_words='english')\n",
        "\n",
        "# Fit and transform the cleaned text\n",
        "features = tfidf_vectorizer.fit_transform(data['clean_text'])\n",
        "\n",
        "# View the feature dimensions\n",
        "print(features.shape)\n"
      ],
      "metadata": {
        "colab": {
          "base_uri": "https://localhost:8080/",
          "height": 0
        },
        "id": "ejUBYmWDEB2K",
        "outputId": "dba6d189-1f76-4189-98ba-f9b7be5f0a63"
      },
      "execution_count": 42,
      "outputs": [
        {
          "output_type": "stream",
          "name": "stdout",
          "text": [
            "(162976, 1000)\n"
          ]
        }
      ]
    },
    {
      "cell_type": "code",
      "source": [],
      "metadata": {
        "id": "aLrGOuSmHOlX"
      },
      "execution_count": null,
      "outputs": []
    },
    {
      "cell_type": "code",
      "source": [
        "from sklearn.model_selection import train_test_split\n",
        "\n",
        "# Assuming the actual target variable is named 'category'\n",
        "X_train, X_test, y_train, y_test = train_test_split(features, data['category'], test_size=0.2, random_state=42)\n"
      ],
      "metadata": {
        "id": "HLNbAzEeFMCy"
      },
      "execution_count": 35,
      "outputs": []
    },
    {
      "cell_type": "code",
      "source": [
        "print(df.columns)\n"
      ],
      "metadata": {
        "colab": {
          "base_uri": "https://localhost:8080/",
          "height": 0
        },
        "id": "v44ZBDJ1FSBv",
        "outputId": "7ca46f09-4de3-44e7-d928-b59768c850c1"
      },
      "execution_count": 37,
      "outputs": [
        {
          "output_type": "stream",
          "name": "stdout",
          "text": [
            "Index(['clean_text', 'category', 'cleaned_text'], dtype='object')\n"
          ]
        }
      ]
    },
    {
      "cell_type": "code",
      "source": [
        "# Remove rows with NaN values in the 'category' column\n",
        "data = data.dropna(subset=['category'])\n",
        "\n",
        "# After cleaning, reapply the train-test split\n",
        "from sklearn.model_selection import train_test_split\n",
        "from sklearn.feature_extraction.text import TfidfVectorizer\n",
        "\n",
        "# Re-vectorize the text\n",
        "tfidf_vectorizer = TfidfVectorizer(max_features=1000, stop_words='english')\n",
        "features = tfidf_vectorizer.fit_transform(data['clean_text'])\n",
        "\n",
        "# Split the dataset again now that NaN values are removed\n",
        "X_train, X_test, y_train, y_test = train_test_split(features, data['category'], test_size=0.2, random_state=42)\n"
      ],
      "metadata": {
        "id": "nWNcCSWdF88K"
      },
      "execution_count": 39,
      "outputs": []
    },
    {
      "cell_type": "code",
      "source": [
        "from sklearn.linear_model import LogisticRegression\n",
        "from sklearn.metrics import classification_report, accuracy_score\n",
        "\n",
        "# Initialize the Logistic Regression model\n",
        "model = LogisticRegression()\n",
        "\n",
        "# Train the model\n",
        "model.fit(X_train, y_train)\n",
        "\n",
        "# Predict on the test set\n",
        "predictions = model.predict(X_test)\n",
        "\n",
        "# Evaluate the model\n",
        "print(classification_report(y_test, predictions))\n",
        "print(\"Accuracy:\", accuracy_score(y_test, predictions))\n"
      ],
      "metadata": {
        "colab": {
          "base_uri": "https://localhost:8080/",
          "height": 0
        },
        "id": "fTjKT76UGDX7",
        "outputId": "d453aa95-53d4-4110-b145-7a2551dfee1c"
      },
      "execution_count": 40,
      "outputs": [
        {
          "output_type": "stream",
          "name": "stdout",
          "text": [
            "              precision    recall  f1-score   support\n",
            "\n",
            "        -1.0       0.80      0.55      0.65      7152\n",
            "         0.0       0.68      0.93      0.78     11067\n",
            "         1.0       0.85      0.73      0.78     14375\n",
            "\n",
            "    accuracy                           0.76     32594\n",
            "   macro avg       0.77      0.74      0.74     32594\n",
            "weighted avg       0.78      0.76      0.76     32594\n",
            "\n",
            "Accuracy: 0.7596183346628214\n"
          ]
        }
      ]
    },
    {
      "cell_type": "code",
      "source": [
        "import seaborn as sns\n",
        "import matplotlib.pyplot as plt\n",
        "from sklearn.metrics import confusion_matrix\n",
        "\n",
        "# Calculate confusion matrix\n",
        "cm = confusion_matrix(y_test, predictions)\n",
        "\n",
        "# Plot the confusion matrix\n",
        "sns.heatmap(cm, annot=True, fmt='d')\n",
        "plt.xlabel('Predicted')\n",
        "plt.ylabel('True')\n",
        "plt.show()\n"
      ],
      "metadata": {
        "colab": {
          "base_uri": "https://localhost:8080/",
          "height": 449
        },
        "id": "4tG_MYfsGUHV",
        "outputId": "b7385dca-0a9a-4564-c9c3-b5751b9c5954"
      },
      "execution_count": 41,
      "outputs": [
        {
          "output_type": "display_data",
          "data": {
            "text/plain": [
              "<Figure size 640x480 with 2 Axes>"
            ],
            "image/png": "[encoded data removed]"
          },
          "metadata": {}
        }
      ]
    }
  ]
}