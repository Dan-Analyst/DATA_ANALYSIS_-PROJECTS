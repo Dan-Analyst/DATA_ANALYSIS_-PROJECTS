{
  "nbformat": 4,
  "nbformat_minor": 0,
  "metadata": {
    "colab": {
      "provenance": [],
      "mount_file_id": "1tla59xwzyrVAC9Vq6QtNtq3XyApR22lc",
      "authorship_tag": "ABX9TyMHzFmtoCLQNHOycNrXlRgE",
      "include_colab_link": true
    },
    "kernelspec": {
      "name": "python3",
      "display_name": "Python 3"
    },
    "language_info": {
      "name": "python"
    }
  },
  "cells": [
    {
      "cell_type": "markdown",
      "metadata": {
        "id": "view-in-github",
        "colab_type": "text"
      },
      "source": [
        "<a href=\"https://colab.research.google.com/github/Dan-Analyst/DATA_ANALYSIS_-PROJECTS/blob/main/Frauddetect.ipynb\" target=\"_parent\"><img src=\"https://colab.research.google.com/assets/colab-badge.svg\" alt=\"Open In Colab\"/></a>"
      ]
    },
    {
      "cell_type": "code",
      "execution_count": 1,
      "metadata": {
        "id": "vEEZ8Zx3pyYU"
      },
      "outputs": [],
      "source": [
        "import pandas as pd\n",
        "import numpy as np\n",
        "from sklearn.model_selection import train_test_split\n",
        "from sklearn.preprocessing import StandardScaler\n",
        "from sklearn.linear_model import LogisticRegression\n",
        "from sklearn.metrics import classification_report, confusion_matrix\n",
        "from sklearn.tree import DecisionTreeClassifier\n",
        "from sklearn.ensemble import RandomForestClassifier"
      ]
    },
    {
      "cell_type": "code",
      "source": [
        "path = \"/content/drive/MyDrive/credit card fraud detection/creditcard.csv\"\n",
        "data = pd.read_csv(path)\n",
        "\n"
      ],
      "metadata": {
        "id": "KeINV1XFqm1I"
      },
      "execution_count": 2,
      "outputs": []
    },
    {
      "cell_type": "code",
      "source": [
        "# Basic information about the dataset\n",
        "print(data.info())\n",
        "print(data.head())"
      ],
      "metadata": {
        "colab": {
          "base_uri": "https://localhost:8080/",
          "height": 0
        },
        "id": "EKWqzKYErAsu",
        "outputId": "fa86a71a-8ee3-4904-fa01-60b664ed9d9b"
      },
      "execution_count": 5,
      "outputs": [
        {
          "output_type": "stream",
          "name": "stdout",
          "text": [
            "<class 'pandas.core.frame.DataFrame'>\n",
            "RangeIndex: 284807 entries, 0 to 284806\n",
            "Data columns (total 31 columns):\n",
            " #   Column  Non-Null Count   Dtype  \n",
            "---  ------  --------------   -----  \n",
            " 0   Time    284807 non-null  float64\n",
            " 1   V1      284807 non-null  float64\n",
            " 2   V2      284807 non-null  float64\n",
            " 3   V3      284807 non-null  float64\n",
            " 4   V4      284807 non-null  float64\n",
            " 5   V5      284807 non-null  float64\n",
            " 6   V6      284807 non-null  float64\n",
            " 7   V7      284807 non-null  float64\n",
            " 8   V8      284807 non-null  float64\n",
            " 9   V9      284807 non-null  float64\n",
            " 10  V10     284807 non-null  float64\n",
            " 11  V11     284807 non-null  float64\n",
            " 12  V12     284807 non-null  float64\n",
            " 13  V13     284807 non-null  float64\n",
            " 14  V14     284807 non-null  float64\n",
            " 15  V15     284807 non-null  float64\n",
            " 16  V16     284807 non-null  float64\n",
            " 17  V17     284807 non-null  float64\n",
            " 18  V18     284807 non-null  float64\n",
            " 19  V19     284807 non-null  float64\n",
            " 20  V20     284807 non-null  float64\n",
            " 21  V21     284807 non-null  float64\n",
            " 22  V22     284807 non-null  float64\n",
            " 23  V23     284807 non-null  float64\n",
            " 24  V24     284807 non-null  float64\n",
            " 25  V25     284807 non-null  float64\n",
            " 26  V26     284807 non-null  float64\n",
            " 27  V27     284807 non-null  float64\n",
            " 28  V28     284807 non-null  float64\n",
            " 29  Amount  284807 non-null  float64\n",
            " 30  Class   284807 non-null  int64  \n",
            "dtypes: float64(30), int64(1)\n",
            "memory usage: 67.4 MB\n",
            "None\n",
            "   Time        V1        V2        V3        V4        V5        V6        V7  \\\n",
            "0   0.0 -1.359807 -0.072781  2.536347  1.378155 -0.338321  0.462388  0.239599   \n",
            "1   0.0  1.191857  0.266151  0.166480  0.448154  0.060018 -0.082361 -0.078803   \n",
            "2   1.0 -1.358354 -1.340163  1.773209  0.379780 -0.503198  1.800499  0.791461   \n",
            "3   1.0 -0.966272 -0.185226  1.792993 -0.863291 -0.010309  1.247203  0.237609   \n",
            "4   2.0 -1.158233  0.877737  1.548718  0.403034 -0.407193  0.095921  0.592941   \n",
            "\n",
            "         V8        V9  ...       V21       V22       V23       V24       V25  \\\n",
            "0  0.098698  0.363787  ... -0.018307  0.277838 -0.110474  0.066928  0.128539   \n",
            "1  0.085102 -0.255425  ... -0.225775 -0.638672  0.101288 -0.339846  0.167170   \n",
            "2  0.247676 -1.514654  ...  0.247998  0.771679  0.909412 -0.689281 -0.327642   \n",
            "3  0.377436 -1.387024  ... -0.108300  0.005274 -0.190321 -1.175575  0.647376   \n",
            "4 -0.270533  0.817739  ... -0.009431  0.798278 -0.137458  0.141267 -0.206010   \n",
            "\n",
            "        V26       V27       V28  Amount  Class  \n",
            "0 -0.189115  0.133558 -0.021053  149.62      0  \n",
            "1  0.125895 -0.008983  0.014724    2.69      0  \n",
            "2 -0.139097 -0.055353 -0.059752  378.66      0  \n",
            "3 -0.221929  0.062723  0.061458  123.50      0  \n",
            "4  0.502292  0.219422  0.215153   69.99      0  \n",
            "\n",
            "[5 rows x 31 columns]\n"
          ]
        }
      ]
    },
    {
      "cell_type": "code",
      "source": [
        "# Check for missing values\n",
        "print(\"Missing values in each column:\\n\", data.isnull().sum())"
      ],
      "metadata": {
        "colab": {
          "base_uri": "https://localhost:8080/",
          "height": 0
        },
        "id": "w9OhrW2UrOkw",
        "outputId": "66820774-8648-46d5-e8d5-60deee176a8e"
      },
      "execution_count": 6,
      "outputs": [
        {
          "output_type": "stream",
          "name": "stdout",
          "text": [
            "Missing values in each column:\n",
            " Time      0\n",
            "V1        0\n",
            "V2        0\n",
            "V3        0\n",
            "V4        0\n",
            "V5        0\n",
            "V6        0\n",
            "V7        0\n",
            "V8        0\n",
            "V9        0\n",
            "V10       0\n",
            "V11       0\n",
            "V12       0\n",
            "V13       0\n",
            "V14       0\n",
            "V15       0\n",
            "V16       0\n",
            "V17       0\n",
            "V18       0\n",
            "V19       0\n",
            "V20       0\n",
            "V21       0\n",
            "V22       0\n",
            "V23       0\n",
            "V24       0\n",
            "V25       0\n",
            "V26       0\n",
            "V27       0\n",
            "V28       0\n",
            "Amount    0\n",
            "Class     0\n",
            "dtype: int64\n"
          ]
        }
      ]
    },
    {
      "cell_type": "code",
      "source": [
        "# Check for duplicates\n",
        "duplicates = data.duplicated().sum()\n",
        "print(\"Number of duplicate entries:\", duplicates)"
      ],
      "metadata": {
        "colab": {
          "base_uri": "https://localhost:8080/",
          "height": 0
        },
        "id": "7b2UWH3MrYpr",
        "outputId": "ac02a1c5-1b26-4873-f591-027643a8ac20"
      },
      "execution_count": 7,
      "outputs": [
        {
          "output_type": "stream",
          "name": "stdout",
          "text": [
            "Number of duplicate entries: 1081\n"
          ]
        }
      ]
    },
    {
      "cell_type": "code",
      "source": [
        "# Drop duplicates if any\n",
        "if duplicates > 0:\n",
        "    data = data.drop_duplicates()\n"
      ],
      "metadata": {
        "id": "sXE8sJnirfeS"
      },
      "execution_count": 8,
      "outputs": []
    },
    {
      "cell_type": "code",
      "source": [
        "# Statistical summary to check for anomalies\n",
        "print(data.describe())"
      ],
      "metadata": {
        "colab": {
          "base_uri": "https://localhost:8080/",
          "height": 0
        },
        "id": "V6_YOtVPriUv",
        "outputId": "c88a35e5-4437-4ba5-84fb-c2c6626903fb"
      },
      "execution_count": 9,
      "outputs": [
        {
          "output_type": "stream",
          "name": "stdout",
          "text": [
            "                Time             V1             V2             V3  \\\n",
            "count  283726.000000  283726.000000  283726.000000  283726.000000   \n",
            "mean    94811.077600       0.005917      -0.004135       0.001613   \n",
            "std     47481.047891       1.948026       1.646703       1.508682   \n",
            "min         0.000000     -56.407510     -72.715728     -48.325589   \n",
            "25%     54204.750000      -0.915951      -0.600321      -0.889682   \n",
            "50%     84692.500000       0.020384       0.063949       0.179963   \n",
            "75%    139298.000000       1.316068       0.800283       1.026960   \n",
            "max    172792.000000       2.454930      22.057729       9.382558   \n",
            "\n",
            "                  V4             V5             V6             V7  \\\n",
            "count  283726.000000  283726.000000  283726.000000  283726.000000   \n",
            "mean       -0.002966       0.001828      -0.001139       0.001801   \n",
            "std         1.414184       1.377008       1.331931       1.227664   \n",
            "min        -5.683171    -113.743307     -26.160506     -43.557242   \n",
            "25%        -0.850134      -0.689830      -0.769031      -0.552509   \n",
            "50%        -0.022248      -0.053468      -0.275168       0.040859   \n",
            "75%         0.739647       0.612218       0.396792       0.570474   \n",
            "max        16.875344      34.801666      73.301626     120.589494   \n",
            "\n",
            "                  V8             V9  ...            V21            V22  \\\n",
            "count  283726.000000  283726.000000  ...  283726.000000  283726.000000   \n",
            "mean       -0.000854      -0.001596  ...      -0.000371      -0.000015   \n",
            "std         1.179054       1.095492  ...       0.723909       0.724550   \n",
            "min       -73.216718     -13.434066  ...     -34.830382     -10.933144   \n",
            "25%        -0.208828      -0.644221  ...      -0.228305      -0.542700   \n",
            "50%         0.021898      -0.052596  ...      -0.029441       0.006675   \n",
            "75%         0.325704       0.595977  ...       0.186194       0.528245   \n",
            "max        20.007208      15.594995  ...      27.202839      10.503090   \n",
            "\n",
            "                 V23            V24            V25            V26  \\\n",
            "count  283726.000000  283726.000000  283726.000000  283726.000000   \n",
            "mean        0.000198       0.000214      -0.000232       0.000149   \n",
            "std         0.623702       0.605627       0.521220       0.482053   \n",
            "min       -44.807735      -2.836627     -10.295397      -2.604551   \n",
            "25%        -0.161703      -0.354453      -0.317485      -0.326763   \n",
            "50%        -0.011159       0.041016       0.016278      -0.052172   \n",
            "75%         0.147748       0.439738       0.350667       0.240261   \n",
            "max        22.528412       4.584549       7.519589       3.517346   \n",
            "\n",
            "                 V27            V28         Amount          Class  \n",
            "count  283726.000000  283726.000000  283726.000000  283726.000000  \n",
            "mean        0.001763       0.000547      88.472687       0.001667  \n",
            "std         0.395744       0.328027     250.399437       0.040796  \n",
            "min       -22.565679     -15.430084       0.000000       0.000000  \n",
            "25%        -0.070641      -0.052818       5.600000       0.000000  \n",
            "50%         0.001479       0.011288      22.000000       0.000000  \n",
            "75%         0.091208       0.078276      77.510000       0.000000  \n",
            "max        31.612198      33.847808   25691.160000       1.000000  \n",
            "\n",
            "[8 rows x 31 columns]\n"
          ]
        }
      ]
    },
    {
      "cell_type": "code",
      "source": [
        "# Feature scaling\n",
        "scaler = StandardScaler()\n",
        "data['Amount'] = scaler.fit_transform(data[['Amount']])  # Scaling the 'Amount' feature"
      ],
      "metadata": {
        "id": "aD5E7JHjrqbq"
      },
      "execution_count": 10,
      "outputs": []
    },
    {
      "cell_type": "code",
      "source": [
        "# Split the data into features and target\n",
        "X = data.drop(['Class', 'Time'], axis=1)  # Dropping 'Time' as it may not be relevant\n",
        "y = data['Class']"
      ],
      "metadata": {
        "id": "bfJXVwjgr2UW"
      },
      "execution_count": 11,
      "outputs": []
    },
    {
      "cell_type": "code",
      "source": [
        "# Splitting the dataset into training and testing sets\n",
        "X_train, X_test, y_train, y_test = train_test_split(X, y, test_size=0.2, random_state=42)\n"
      ],
      "metadata": {
        "id": "zkDbQqKPr6qL"
      },
      "execution_count": 12,
      "outputs": []
    },
    {
      "cell_type": "code",
      "source": [
        "# Logistic Regression model\n",
        "log_reg = LogisticRegression()\n",
        "log_reg.fit(X_train, y_train)\n",
        "log_predictions = log_reg.predict(X_test)\n"
      ],
      "metadata": {
        "id": "n7iNdGIisBRZ"
      },
      "execution_count": 13,
      "outputs": []
    },
    {
      "cell_type": "code",
      "source": [
        "# Evaluation\n",
        "print(\"Logistic Regression Classification Report:\")\n",
        "print(classification_report(y_test, log_predictions))"
      ],
      "metadata": {
        "colab": {
          "base_uri": "https://localhost:8080/",
          "height": 0
        },
        "id": "Jw37hsvksIKU",
        "outputId": "24bc84a7-deda-4c64-fc85-c9047f267eb5"
      },
      "execution_count": 14,
      "outputs": [
        {
          "output_type": "stream",
          "name": "stdout",
          "text": [
            "Logistic Regression Classification Report:\n",
            "              precision    recall  f1-score   support\n",
            "\n",
            "           0       1.00      1.00      1.00     56656\n",
            "           1       0.88      0.54      0.67        90\n",
            "\n",
            "    accuracy                           1.00     56746\n",
            "   macro avg       0.94      0.77      0.84     56746\n",
            "weighted avg       1.00      1.00      1.00     56746\n",
            "\n"
          ]
        }
      ]
    },
    {
      "cell_type": "code",
      "source": [
        "# Decision Tree model for comparison\n",
        "tree_model = DecisionTreeClassifier()\n",
        "tree_model.fit(X_train, y_train)\n",
        "tree_predictions = tree_model.predict(X_test)\n"
      ],
      "metadata": {
        "id": "iS-SeqrgsOVF"
      },
      "execution_count": 15,
      "outputs": []
    },
    {
      "cell_type": "code",
      "source": [
        "# Evaluation\n",
        "print(\"Decision Tree Classification Report:\")\n",
        "print(classification_report(y_test, tree_predictions))\n"
      ],
      "metadata": {
        "colab": {
          "base_uri": "https://localhost:8080/",
          "height": 0
        },
        "id": "5HaRKbSlsgQ6",
        "outputId": "2e20b0db-c1a6-48c2-f296-bd8f1c7bac0d"
      },
      "execution_count": 16,
      "outputs": [
        {
          "output_type": "stream",
          "name": "stdout",
          "text": [
            "Decision Tree Classification Report:\n",
            "              precision    recall  f1-score   support\n",
            "\n",
            "           0       1.00      1.00      1.00     56656\n",
            "           1       0.72      0.73      0.73        90\n",
            "\n",
            "    accuracy                           1.00     56746\n",
            "   macro avg       0.86      0.87      0.86     56746\n",
            "weighted avg       1.00      1.00      1.00     56746\n",
            "\n"
          ]
        }
      ]
    },
    {
      "cell_type": "code",
      "source": [
        "import pandas as pd\n",
        "import numpy as np\n",
        "from sklearn.model_selection import train_test_split\n",
        "from sklearn.preprocessing import StandardScaler\n",
        "from sklearn.metrics import classification_report, confusion_matrix\n",
        "import tensorflow as tf\n",
        "from tensorflow.keras.models import Sequential\n",
        "from tensorflow.keras.layers import Dense, Dropout\n",
        "from sklearn.ensemble import RandomForestClassifier\n"
      ],
      "metadata": {
        "id": "B-yQVLAxstN1"
      },
      "execution_count": 17,
      "outputs": []
    },
    {
      "cell_type": "code",
      "source": [
        "data['Amount'] = StandardScaler().fit_transform(data[['Amount']])\n",
        "data['Time'] = data['Time'].apply(lambda x: np.cos(x * 2 * np.pi / 86400))\n"
      ],
      "metadata": {
        "id": "q18ISdVUs4dZ"
      },
      "execution_count": 18,
      "outputs": []
    },
    {
      "cell_type": "code",
      "source": [
        "# Feature Engineering: Interaction terms (example)\n",
        "data['Amount_to_mean'] = data['Amount'] / data.groupby('Class')['Amount'].transform('mean')\n"
      ],
      "metadata": {
        "id": "7VsrpY1is-zM"
      },
      "execution_count": 22,
      "outputs": []
    },
    {
      "cell_type": "code",
      "source": [
        "# Splitting the dataset\n",
        "X = data.drop(['Class'], axis=1)\n",
        "y = data['Class']\n",
        "X_train, X_test, y_train, y_test = train_test_split(X, y, test_size=0.2, random_state=42)\n"
      ],
      "metadata": {
        "id": "fKYEsUahtyIA"
      },
      "execution_count": 23,
      "outputs": []
    },
    {
      "cell_type": "code",
      "source": [
        "\n",
        "from tensorflow.keras.layers import Dense, Dropout, Input\n",
        "\n",
        "# Neural Network Model using an Input layer\n",
        "model = Sequential([\n",
        "    Input(shape=(X_train.shape[1],)),  # Use Input layer to specify input shape\n",
        "    Dense(16, activation='relu'),\n",
        "    Dropout(0.1),\n",
        "    Dense(16, activation='relu'),\n",
        "    Dropout(0.1),\n",
        "    Dense(1, activation='sigmoid')\n",
        "])\n",
        "\n",
        "model.compile(optimizer='adam', loss='binary_crossentropy', metrics=['accuracy'])\n",
        "model.fit(X_train, y_train, epochs=10, batch_size=256, verbose=1, validation_split=0.2)\n"
      ],
      "metadata": {
        "colab": {
          "base_uri": "https://localhost:8080/",
          "height": 0
        },
        "id": "BxUwrxhgtzgK",
        "outputId": "53a830ee-1a1a-4379-cc3b-d28269977d40"
      },
      "execution_count": 25,
      "outputs": [
        {
          "output_type": "stream",
          "name": "stdout",
          "text": [
            "Epoch 1/10\n",
            "\u001b[1m710/710\u001b[0m \u001b[32m━━━━━━━━━━━━━━━━━━━━\u001b[0m\u001b[37m\u001b[0m \u001b[1m3s\u001b[0m 3ms/step - accuracy: 0.8419 - loss: 25.1838 - val_accuracy: 0.9981 - val_loss: 0.0031\n",
            "Epoch 2/10\n",
            "\u001b[1m710/710\u001b[0m \u001b[32m━━━━━━━━━━━━━━━━━━━━\u001b[0m\u001b[37m\u001b[0m \u001b[1m3s\u001b[0m 4ms/step - accuracy: 0.9966 - loss: 0.0419 - val_accuracy: 0.9982 - val_loss: 0.0027\n",
            "Epoch 3/10\n",
            "\u001b[1m710/710\u001b[0m \u001b[32m━━━━━━━━━━━━━━━━━━━━\u001b[0m\u001b[37m\u001b[0m \u001b[1m7s\u001b[0m 6ms/step - accuracy: 0.9974 - loss: 0.0162 - val_accuracy: 0.9981 - val_loss: 0.0025\n",
            "Epoch 4/10\n",
            "\u001b[1m710/710\u001b[0m \u001b[32m━━━━━━━━━━━━━━━━━━━━\u001b[0m\u001b[37m\u001b[0m \u001b[1m2s\u001b[0m 3ms/step - accuracy: 0.9981 - loss: 0.0093 - val_accuracy: 0.9982 - val_loss: 0.0022\n",
            "Epoch 5/10\n",
            "\u001b[1m710/710\u001b[0m \u001b[32m━━━━━━━━━━━━━━━━━━━━\u001b[0m\u001b[37m\u001b[0m \u001b[1m2s\u001b[0m 2ms/step - accuracy: 0.9987 - loss: 0.0040 - val_accuracy: 0.9996 - val_loss: 0.0018\n",
            "Epoch 6/10\n",
            "\u001b[1m710/710\u001b[0m \u001b[32m━━━━━━━━━━━━━━━━━━━━\u001b[0m\u001b[37m\u001b[0m \u001b[1m3s\u001b[0m 4ms/step - accuracy: 0.9993 - loss: 0.0033 - val_accuracy: 0.9997 - val_loss: 0.0015\n",
            "Epoch 7/10\n",
            "\u001b[1m710/710\u001b[0m \u001b[32m━━━━━━━━━━━━━━━━━━━━\u001b[0m\u001b[37m\u001b[0m \u001b[1m2s\u001b[0m 3ms/step - accuracy: 0.9993 - loss: 0.0036 - val_accuracy: 0.9997 - val_loss: 0.0013\n",
            "Epoch 8/10\n",
            "\u001b[1m710/710\u001b[0m \u001b[32m━━━━━━━━━━━━━━━━━━━━\u001b[0m\u001b[37m\u001b[0m \u001b[1m2s\u001b[0m 3ms/step - accuracy: 0.9997 - loss: 0.0033 - val_accuracy: 0.9997 - val_loss: 0.0011\n",
            "Epoch 9/10\n",
            "\u001b[1m710/710\u001b[0m \u001b[32m━━━━━━━━━━━━━━━━━━━━\u001b[0m\u001b[37m\u001b[0m \u001b[1m2s\u001b[0m 2ms/step - accuracy: 0.9997 - loss: 0.0011 - val_accuracy: 0.9997 - val_loss: 8.9146e-04\n",
            "Epoch 10/10\n",
            "\u001b[1m710/710\u001b[0m \u001b[32m━━━━━━━━━━━━━━━━━━━━\u001b[0m\u001b[37m\u001b[0m \u001b[1m3s\u001b[0m 2ms/step - accuracy: 0.9998 - loss: 0.0010 - val_accuracy: 0.9998 - val_loss: 7.5931e-04\n"
          ]
        },
        {
          "output_type": "execute_result",
          "data": {
            "text/plain": [
              "<keras.src.callbacks.history.History at 0x7ff513dd6310>"
            ]
          },
          "metadata": {},
          "execution_count": 25
        }
      ]
    },
    {
      "cell_type": "code",
      "source": [
        "# Predictions and evaluation\n",
        "nn_predictions = (model.predict(X_test) > 0.5).astype(int)\n",
        "print(\"Neural Network Classification Report:\")\n",
        "print(classification_report(y_test, nn_predictions))"
      ],
      "metadata": {
        "colab": {
          "base_uri": "https://localhost:8080/",
          "height": 0
        },
        "id": "WxhAe2gAuoiS",
        "outputId": "78e6c470-90a4-4785-889d-c9a60271b771"
      },
      "execution_count": 26,
      "outputs": [
        {
          "output_type": "stream",
          "name": "stdout",
          "text": [
            "\u001b[1m1774/1774\u001b[0m \u001b[32m━━━━━━━━━━━━━━━━━━━━\u001b[0m\u001b[37m\u001b[0m \u001b[1m2s\u001b[0m 1ms/step  \n",
            "Neural Network Classification Report:\n",
            "              precision    recall  f1-score   support\n",
            "\n",
            "           0       1.00      1.00      1.00     56656\n",
            "           1       0.97      0.86      0.91        90\n",
            "\n",
            "    accuracy                           1.00     56746\n",
            "   macro avg       0.99      0.93      0.96     56746\n",
            "weighted avg       1.00      1.00      1.00     56746\n",
            "\n"
          ]
        }
      ]
    }
  ]
}