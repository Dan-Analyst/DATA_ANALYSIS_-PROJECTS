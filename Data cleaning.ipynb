{
  "nbformat": 4,
  "nbformat_minor": 0,
  "metadata": {
    "colab": {
      "provenance": [],
      "authorship_tag": "ABX9TyN9XyboQkJZmABP+eIMFnB7",
      "include_colab_link": true
    },
    "kernelspec": {
      "name": "python3",
      "display_name": "Python 3"
    },
    "language_info": {
      "name": "python"
    }
  },
  "cells": [
    {
      "cell_type": "markdown",
      "metadata": {
        "id": "view-in-github",
        "colab_type": "text"
      },
      "source": [
        "<a href=\"https://colab.research.google.com/github/Dan-Analyst/DATA_ANALYSIS_-PROJECTS/blob/main/Data%20cleaning.ipynb\" target=\"_parent\"><img src=\"https://colab.research.google.com/assets/colab-badge.svg\" alt=\"Open In Colab\"/></a>"
      ]
    },
    {
      "cell_type": "code",
      "execution_count": null,
      "metadata": {
        "id": "A4lvLuT1fIX2"
      },
      "outputs": [],
      "source": []
    },
    {
      "cell_type": "code",
      "source": [
        "from google.colab import drive\n",
        "drive.mount('/content/drive')"
      ],
      "metadata": {
        "colab": {
          "base_uri": "https://localhost:8080/"
        },
        "id": "wFYd2iGtfYjD",
        "outputId": "bd27a652-a937-45c2-967f-aee4e6148207"
      },
      "execution_count": 1,
      "outputs": [
        {
          "output_type": "stream",
          "name": "stdout",
          "text": [
            "Mounted at /content/drive\n"
          ]
        }
      ]
    },
    {
      "cell_type": "code",
      "source": [
        "#%% --------------------------\n",
        "# Import Libraries\n",
        "import pandas as pd\n",
        "import numpy as np\n",
        "import matplotlib.pyplot as plt\n",
        "import seaborn as sns\n",
        "from datetime import datetime\n",
        "\n",
        "\n",
        "path=\"/content/drive/MyDrive/New_York_2025/New York 2025.csv\"\n",
        "df=pd.read_csv(path)\n",
        "print(df.head(10))\n"
      ],
      "metadata": {
        "colab": {
          "base_uri": "https://localhost:8080/"
        },
        "id": "sENhhU00fo33",
        "outputId": "560a6db0-4609-453f-d1a9-b0a3fe77173b"
      },
      "execution_count": 5,
      "outputs": [
        {
          "output_type": "stream",
          "name": "stdout",
          "text": [
            "        id                                               name  host_id  \\\n",
            "0   2595.0                    Skylit Midtown Castle Sanctuary     2845   \n",
            "1   6848.0                   Only 2 stops to Manhattan studio    15991   \n",
            "2   6872.0  Uptown Sanctuary w/ Private Bath (Month to Month)    16104   \n",
            "3   6990.0                            UES Beautiful Blue Room    16800   \n",
            "4   7064.0  Amazing location! Wburg. Large, bright & tranquil    17297   \n",
            "5   7097.0      Perfect for Your Parents, With Garden & Patio    17571   \n",
            "6   7801.0                 Sunny Williamsburg Loft with Sauna    21207   \n",
            "7   8490.0   Maison des Sirenes1,bohemian, luminous apartment    25183   \n",
            "8   9357.0                               Midtown Pied-a-terre    30193   \n",
            "9  10452.0                      Radiant Oasis  B&B Style room    35935   \n",
            "\n",
            "        host_name neighbourhood_group       neighbourhood   latitude  \\\n",
            "0        Jennifer           Manhattan             Midtown  40.753560   \n",
            "1   Allen & Irina            Brooklyn        Williamsburg  40.709350   \n",
            "2       Kahshanna           Manhattan         East Harlem  40.801070   \n",
            "3             Cyn           Manhattan         East Harlem  40.787780   \n",
            "4          Joelle            Brooklyn        Williamsburg  40.712480   \n",
            "5            Jane            Brooklyn         Fort Greene  40.691940   \n",
            "6           Chaya            Brooklyn        Williamsburg  40.718807   \n",
            "7        Nathalie            Brooklyn  Bedford-Stuyvesant  40.684556   \n",
            "8  Tommi Laurelle           Manhattan      Hell's Kitchen  40.767240   \n",
            "9          Angela            Brooklyn  Bedford-Stuyvesant  40.682940   \n",
            "\n",
            "   longitude        room_type  price  minimum_nights  number_of_reviews  \\\n",
            "0 -73.985590  Entire home/apt  240.0              30                 49   \n",
            "1 -73.953420  Entire home/apt   81.0              30                195   \n",
            "2 -73.942550     Private room   65.0              30                  1   \n",
            "3 -73.947590     Private room   70.0              30                251   \n",
            "4 -73.958810     Private room    NaN              30                 13   \n",
            "5 -73.973890     Private room  205.0               2                395   \n",
            "6 -73.956177  Entire home/apt  310.0              30                 13   \n",
            "7 -73.939634  Entire home/apt  170.0              30                190   \n",
            "8 -73.986640  Entire home/apt    NaN              30                 58   \n",
            "9 -73.956820     Private room   90.0              30                 81   \n",
            "\n",
            "  last_review  reviews_per_month  calculated_host_listings_count  \\\n",
            "0  21/06/2022               0.27                               3   \n",
            "1  05/10/2024               1.03                               1   \n",
            "2  05/06/2022               0.03                               2   \n",
            "3  01/12/2024               1.36                               1   \n",
            "4  12/09/2022               0.07                               2   \n",
            "5  21/12/2024               2.17                               2   \n",
            "6  31/07/2024               0.07                               1   \n",
            "7  16/10/2023               1.02                               2   \n",
            "8  13/08/2017               0.31                               1   \n",
            "9  19/08/2024               0.45                               6   \n",
            "\n",
            "   availability_365  number_of_reviews_ltm             license  \n",
            "0               365                      0                 NaN  \n",
            "1               196                      4                 NaN  \n",
            "2                83                      0                 NaN  \n",
            "3                 8                      5                 NaN  \n",
            "4                 0                      0                 NaN  \n",
            "5               261                     36  OSE-STRREG-0000008  \n",
            "6                30                      1                 NaN  \n",
            "7               157                      0                 NaN  \n",
            "8                43                      0                 NaN  \n",
            "9               350                      2                 NaN  \n"
          ]
        }
      ]
    },
    {
      "cell_type": "code",
      "source": [
        "# Check for missing values\n",
        "print(\"Missing values in each column:\")\n",
        "print(df.isnull().sum())\n"
      ],
      "metadata": {
        "colab": {
          "base_uri": "https://localhost:8080/"
        },
        "id": "I1lpkipwgM5x",
        "outputId": "48987954-af12-4bbf-dae7-167c112adacc"
      },
      "execution_count": 11,
      "outputs": [
        {
          "output_type": "stream",
          "name": "stdout",
          "text": [
            "Missing values in each column:\n",
            "id                                    0\n",
            "name                                  2\n",
            "host_id                               0\n",
            "host_name                             6\n",
            "neighbourhood_group                   0\n",
            "neighbourhood                         0\n",
            "latitude                              0\n",
            "longitude                             0\n",
            "room_type                             0\n",
            "price                                 0\n",
            "minimum_nights                        0\n",
            "number_of_reviews                     0\n",
            "last_review                        9486\n",
            "reviews_per_month                  9486\n",
            "calculated_host_listings_count        0\n",
            "availability_365                      0\n",
            "number_of_reviews_ltm                 0\n",
            "license                           29530\n",
            "has_license                           0\n",
            "dtype: int64\n"
          ]
        }
      ]
    },
    {
      "cell_type": "code",
      "source": [
        "\n",
        "# Handling missing values - options:\n",
        "# Option 1: Fill missing values with the mean (numerical data)\n",
        "# df['column_name'].fillna(df['column_name'].mean(), inplace=True)\n",
        "\n"
      ],
      "metadata": {
        "id": "tw5X1cV9jHf7"
      },
      "execution_count": 25,
      "outputs": []
    },
    {
      "cell_type": "code",
      "source": [
        "# Print the number of duplicates\n",
        "print(\"Number of duplicate entries:\", df.duplicated().sum())\n"
      ],
      "metadata": {
        "colab": {
          "base_uri": "https://localhost:8080/"
        },
        "id": "xEY8q1RGjTw_",
        "outputId": "8dbd8997-0494-435f-9afb-bb3eda4caaf3"
      },
      "execution_count": 26,
      "outputs": [
        {
          "output_type": "stream",
          "name": "stdout",
          "text": [
            "Number of duplicate entries: 0\n"
          ]
        }
      ]
    },
    {
      "cell_type": "code",
      "source": [
        "# Example: Convert all string data to lowercase (if applicable)\n",
        "# df['text_column'] = df['text_column'].str.lower()\n",
        "\n",
        "# Standardize date formats (if applicable)\n",
        "# df['date_column'] = pd.to_datetime(df['date_column'], format='%Y-%m-%d')\n",
        "\n",
        "# Standardize numerical formats (if needed)\n",
        "# df['numerical_column'] = pd.to_numeric(df['numerical_column'], errors='coerce')\n"
      ],
      "metadata": {
        "id": "vVytBIiTjyce"
      },
      "execution_count": 27,
      "outputs": []
    },
    {
      "cell_type": "code",
      "source": [
        "# 5. Handle Outliers\n",
        "# Remove price outliers using IQR\n",
        "Q1 = df['price'].quantile(0.25)\n",
        "Q3 = df['price'].quantile(0.75)\n",
        "IQR = Q3 - Q1\n",
        "df = df[(df['price'] >= (Q1 - 1.5 * IQR)) & (df['price'] <= (Q3 + 1.5 * IQR))]"
      ],
      "metadata": {
        "id": "f8Knfq4slLio"
      },
      "execution_count": 28,
      "outputs": []
    },
    {
      "cell_type": "code",
      "source": [
        "# Histogram of numerical data\n",
        "plt.hist(df['price'])\n",
        "plt.title('Distribution of Price')\n",
        "plt.xlabel('Value')\n",
        "plt.ylabel('Frequency')\n",
        "plt.show()\n",
        "\n",
        "# Boxplot to view outliers\n",
        "sns.boxplot(x=df['price'])\n",
        "plt.title('Boxplot of Price')\n",
        "plt.show()\n"
      ],
      "metadata": {
        "colab": {
          "base_uri": "https://localhost:8080/",
          "height": 927
        },
        "id": "nsB3x_zGmOrt",
        "outputId": "4d202d05-258e-4b2e-88ce-8b388a8d9197"
      },
      "execution_count": 29,
      "outputs": [
        {
          "output_type": "display_data",
          "data": {
            "text/plain": [
              "<Figure size 640x480 with 1 Axes>"
            ],
            "image/png": "[encoded data removed]"
          },
          "metadata": {}
        },
        {
          "output_type": "display_data",
          "data": {
            "text/plain": [
              "<Figure size 640x480 with 1 Axes>"
            ],
            "image/png": "[encoded data removed]"
          },
          "metadata": {}
        }
      ]
    },
    {
      "cell_type": "code",
      "source": [
        "print(\"Final dataset preview:\")\n",
        "print(df.head())\n",
        "print(\"Dataset shape:\", df.shape)"
      ],
      "metadata": {
        "colab": {
          "base_uri": "https://localhost:8080/"
        },
        "id": "JUdHS96gmr4O",
        "outputId": "9f9a2222-3956-4420-d1d5-46ea68565038"
      },
      "execution_count": 30,
      "outputs": [
        {
          "output_type": "stream",
          "name": "stdout",
          "text": [
            "Final dataset preview:\n",
            "       id                                               name  host_id  \\\n",
            "0  2595.0                    Skylit Midtown Castle Sanctuary     2845   \n",
            "1  6848.0                   Only 2 stops to Manhattan studio    15991   \n",
            "2  6872.0  Uptown Sanctuary w/ Private Bath (Month to Month)    16104   \n",
            "3  6990.0                            UES Beautiful Blue Room    16800   \n",
            "4  7064.0  Amazing location! Wburg. Large, bright & tranquil    17297   \n",
            "\n",
            "       host_name neighbourhood_group neighbourhood  latitude  longitude  \\\n",
            "0       Jennifer           Manhattan       Midtown  40.75356  -73.98559   \n",
            "1  Allen & Irina            Brooklyn  Williamsburg  40.70935  -73.95342   \n",
            "2      Kahshanna           Manhattan   East Harlem  40.80107  -73.94255   \n",
            "3            Cyn           Manhattan   East Harlem  40.78778  -73.94759   \n",
            "4         Joelle            Brooklyn  Williamsburg  40.71248  -73.95881   \n",
            "\n",
            "         room_type  price  minimum_nights  number_of_reviews last_review  \\\n",
            "0  Entire Home/Apt  240.0              30                 49  2022-06-21   \n",
            "1  Entire Home/Apt   81.0              30                195  2024-10-05   \n",
            "2     Private Room   65.0              30                  1  2022-06-05   \n",
            "3     Private Room   70.0              30                251  2024-12-01   \n",
            "4     Private Room   70.0              30                 13  2022-09-12   \n",
            "\n",
            "   reviews_per_month  calculated_host_listings_count  availability_365  \\\n",
            "0               0.27                               3               365   \n",
            "1               1.03                               1               196   \n",
            "2               0.03                               2                83   \n",
            "3               1.36                               1                 8   \n",
            "4               0.07                               2                 0   \n",
            "\n",
            "   number_of_reviews_ltm license  has_license  \n",
            "0                      0     NaN            0  \n",
            "1                      4     NaN            0  \n",
            "2                      0     NaN            0  \n",
            "3                      5     NaN            0  \n",
            "4                      0     NaN            0  \n",
            "Dataset shape: (33455, 19)\n"
          ]
        }
      ]
    },
    {
      "cell_type": "code",
      "source": [
        "# Save cleaned data\n",
        "df.to_csv('Cleaned_New_York_2025.csv', index=False)\n",
        "\n",
        "print(\"Data cleaning complete! Final shape:\", df.shape)"
      ],
      "metadata": {
        "colab": {
          "base_uri": "https://localhost:8080/"
        },
        "id": "KQsFBt_7j7Vy",
        "outputId": "373dd9e2-4a3e-40d0-dbfe-031b497067cd"
      },
      "execution_count": 31,
      "outputs": [
        {
          "output_type": "stream",
          "name": "stdout",
          "text": [
            "Data cleaning complete! Final shape: (33455, 19)\n"
          ]
        }
      ]
    }
  ]
}